{
 "cells": [
  {
   "cell_type": "code",
   "execution_count": 7,
   "metadata": {},
   "outputs": [],
   "source": [
    "import pandas as pd\n",
    "import numpy as np\n",
    "import matplotlib.pyplot as plt\n",
    "from deepface import DeepFace\n",
    "import cv2\n",
    "import seaborn as sns  \n",
    "from spare_parts import *"
   ]
  },
  {
   "cell_type": "code",
   "execution_count": 9,
   "metadata": {},
   "outputs": [
    {
     "name": "stdout",
     "output_type": "stream",
     "text": [
      "Data inserted successfully!\n"
     ]
    }
   ],
   "source": [
    "insert_emotion_data(2,3,4,5,6,7,3)"
   ]
  },
  {
   "cell_type": "code",
   "execution_count": 12,
   "metadata": {},
   "outputs": [],
   "source": [
    "image_1 = cv2.imread(\"testing.jpg\")"
   ]
  },
  {
   "cell_type": "code",
   "execution_count": 13,
   "metadata": {},
   "outputs": [
    {
     "name": "stderr",
     "output_type": "stream",
     "text": [
      "Action: emotion: 100%|██████████| 1/1 [00:00<00:00,  4.67it/s]\n",
      "Action: emotion: 100%|██████████| 1/1 [00:00<00:00,  3.13it/s]\n",
      "Action: emotion: 100%|██████████| 1/1 [00:00<00:00,  3.82it/s]\n",
      "Action: emotion: 100%|██████████| 1/1 [00:00<00:00,  3.41it/s]\n",
      "Action: emotion: 100%|██████████| 1/1 [00:00<00:00,  4.44it/s]\n",
      "Action: emotion: 100%|██████████| 1/1 [00:00<00:00,  4.95it/s]\n",
      "Action: emotion: 100%|██████████| 1/1 [00:00<00:00,  5.77it/s]\n"
     ]
    }
   ],
   "source": [
    "data_1 = DeepFace.analyze(image_1, actions = ['emotion'])"
   ]
  },
  {
   "cell_type": "code",
   "execution_count": 14,
   "metadata": {},
   "outputs": [
    {
     "data": {
      "text/plain": [
       "[{'emotion': {'angry': 0.43373035989584685,\n",
       "   'disgust': 0.01932462297778192,\n",
       "   'fear': 1.6871769986854195,\n",
       "   'happy': 94.31741203769518,\n",
       "   'sad': 1.3172631937124248,\n",
       "   'surprise': 0.4124942015853048,\n",
       "   'neutral': 1.8126008249879375},\n",
       "  'dominant_emotion': 'happy',\n",
       "  'region': {'x': 323, 'y': 130, 'w': 74, 'h': 74}},\n",
       " {'emotion': {'angry': 0.001020368896998567,\n",
       "   'disgust': 7.822884140460278e-07,\n",
       "   'fear': 1.8772746255118088e-06,\n",
       "   'happy': 99.9961316583235,\n",
       "   'sad': 0.0018578001997891932,\n",
       "   'surprise': 6.694550735332156e-06,\n",
       "   'neutral': 0.0009786334559391636},\n",
       "  'dominant_emotion': 'happy',\n",
       "  'region': {'x': 196, 'y': 57, 'w': 75, 'h': 75}},\n",
       " {'emotion': {'angry': 8.860129696586228e-05,\n",
       "   'disgust': 1.422146580186412e-10,\n",
       "   'fear': 3.328825215476172e-07,\n",
       "   'happy': 99.13654327392578,\n",
       "   'sad': 0.0002740567197179189,\n",
       "   'surprise': 4.088650484845857e-06,\n",
       "   'neutral': 0.8630851283669472},\n",
       "  'dominant_emotion': 'happy',\n",
       "  'region': {'x': 401, 'y': 57, 'w': 96, 'h': 96}},\n",
       " {'emotion': {'angry': 5.8621196785679786e-05,\n",
       "   'disgust': 6.833202059741694e-09,\n",
       "   'fear': 0.0015405623344122432,\n",
       "   'happy': 98.58119487762451,\n",
       "   'sad': 9.102091098611709e-05,\n",
       "   'surprise': 0.03567878738977015,\n",
       "   'neutral': 1.3814406469464302},\n",
       "  'dominant_emotion': 'happy',\n",
       "  'region': {'x': 224, 'y': 211, 'w': 91, 'h': 91}},\n",
       " {'emotion': {'angry': 98.73906962508379,\n",
       "   'disgust': 0.0009136482366346634,\n",
       "   'fear': 0.04485851944977906,\n",
       "   'happy': 0.9337975268839316,\n",
       "   'sad': 0.01042749052737783,\n",
       "   'surprise': 0.054270090510403546,\n",
       "   'neutral': 0.21666999800771464},\n",
       "  'dominant_emotion': 'angry',\n",
       "  'region': {'x': 288, 'y': 283, 'w': 72, 'h': 72}},\n",
       " {'emotion': {'angry': 5.735703578757523e-10,\n",
       "   'disgust': 4.859284022796888e-14,\n",
       "   'fear': 1.8737216223030373e-06,\n",
       "   'happy': 99.98292922973633,\n",
       "   'sad': 3.363526568378461e-07,\n",
       "   'surprise': 0.0007349691259150859,\n",
       "   'neutral': 0.016334897372871637},\n",
       "  'dominant_emotion': 'happy',\n",
       "  'region': {'x': 348, 'y': 264, 'w': 82, 'h': 82}},\n",
       " {'emotion': {'angry': 0.12255395698649203,\n",
       "   'disgust': 0.08119859463216726,\n",
       "   'fear': 0.046917924419516394,\n",
       "   'happy': 94.14025018927452,\n",
       "   'sad': 5.571476450982517,\n",
       "   'surprise': 0.00024819375309448186,\n",
       "   'neutral': 0.03734529446326411},\n",
       "  'dominant_emotion': 'happy',\n",
       "  'region': {'x': 440, 'y': 242, 'w': 88, 'h': 88}}]"
      ]
     },
     "execution_count": 14,
     "metadata": {},
     "output_type": "execute_result"
    }
   ],
   "source": [
    "\n",
    "data_1"
   ]
  },
  {
   "cell_type": "code",
   "execution_count": 31,
   "metadata": {},
   "outputs": [
    {
     "data": {
      "text/plain": [
       "{'angry': 1,\n",
       " 'disgust': 0,\n",
       " 'fear': 0,\n",
       " 'happy': 6,\n",
       " 'sad': 0,\n",
       " 'surprise': 0,\n",
       " 'neutral': 0}"
      ]
     },
     "execution_count": 31,
     "metadata": {},
     "output_type": "execute_result"
    }
   ],
   "source": [
    "dict_1 = {'angry': 0, 'disgust' : 0,'fear' : 0, 'happy' : 0, 'sad' : 0,'surprise' : 0,'neutral': 0}\n",
    "for i in data_1:\n",
    "    dict_1[i['dominant_emotion']] += 1\n",
    "dict_1"
   ]
  },
  {
   "cell_type": "code",
   "execution_count": 32,
   "metadata": {},
   "outputs": [
    {
     "data": {
      "text/plain": [
       "dict_values([1, 0, 0, 6, 0, 0, 0])"
      ]
     },
     "execution_count": 32,
     "metadata": {},
     "output_type": "execute_result"
    }
   ],
   "source": [
    "dict_1.values()"
   ]
  },
  {
   "attachments": {},
   "cell_type": "markdown",
   "metadata": {},
   "source": [
    "<h1> DataBase Area </h1>"
   ]
  },
  {
   "cell_type": "code",
   "execution_count": null,
   "metadata": {},
   "outputs": [],
   "source": [
    "# making new database\\\n",
    "\"\"\"  \n",
    "Host => shubhanshu__mishra\n",
    "\"\"\""
   ]
  },
  {
   "cell_type": "code",
   "execution_count": 12,
   "metadata": {},
   "outputs": [],
   "source": [
    "import mysql.connector\n",
    "import pytz\n",
    "from datetime import datetime"
   ]
  },
  {
   "cell_type": "code",
   "execution_count": 21,
   "metadata": {},
   "outputs": [],
   "source": [
    "timezone = pytz.timezone(\"Asia/Kolkata\")\n",
    "date_now = datetime.now(timezone)\n",
    "now = date_now.strftime('%Y-%m-%d %H:%M:%S')"
   ]
  },
  {
   "cell_type": "code",
   "execution_count": 18,
   "metadata": {},
   "outputs": [],
   "source": [
    "connector = mysql.connector.connect(\n",
    "    host=\"sql.freedb.tech\",\n",
    "    user=\"freedb_anshu\",\n",
    "    password = \"t3guc77PZ?GnE9n\",\n",
    "    database = \"freedb_hackathon_ai\"\n",
    ")"
   ]
  },
  {
   "cell_type": "code",
   "execution_count": 19,
   "metadata": {},
   "outputs": [
    {
     "name": "stdout",
     "output_type": "stream",
     "text": [
      "('2023-06-19 18:59:10', '2', '3', '4', '5', '6', '7', '3')\n"
     ]
    }
   ],
   "source": [
    "cursor = connector.cursor()\n",
    "cursor.execute(\"SELECT * FROM emotion\")\n",
    "for i in cursor:\n",
    "    print(i)"
   ]
  },
  {
   "cell_type": "code",
   "execution_count": 29,
   "metadata": {},
   "outputs": [
    {
     "name": "stdout",
     "output_type": "stream",
     "text": [
      "('freedb_hackathon_ai',)\n",
      "('information_schema',)\n",
      "('performance_schema',)\n"
     ]
    }
   ],
   "source": [
    "\n",
    "for i in cursor:\n",
    "    print(i)"
   ]
  },
  {
   "cell_type": "code",
   "execution_count": 30,
   "metadata": {},
   "outputs": [],
   "source": [
    "import mysql.connector\n",
    "\n",
    "# Establish a connection to the MySQL database\n",
    "connector = mysql.connector.connect(\n",
    "    host=\"sql.freedb.tech\",\n",
    "    user=\"freedb_anshu\",\n",
    "    password=\"t3guc77PZ?GnE9n\",\n",
    "    database=\"freedb_hackathon_ai\"\n",
    ")\n",
    "\n",
    "# Create a cursor object to execute SQL queries\n",
    "cursor = connector.cursor()\n",
    "\n",
    "# SQL query to create the \"emotion\" table\n",
    "create_table_query = \"\"\"\n",
    "CREATE TABLE emotion (\n",
    "    time VARCHAR(255),\n",
    "    angry VARCHAR(255),\n",
    "    disgust VARCHAR(255),\n",
    "    fear VARCHAR(255),\n",
    "    happy VARCHAR(255),\n",
    "    sad VARCHAR(255),\n",
    "    surprise VARCHAR(255),\n",
    "    neutral VARCHAR(255)\n",
    ")\n",
    "\"\"\"\n",
    "\n",
    "# Execute the SQL query to create the table\n",
    "cursor.execute(create_table_query)\n",
    "\n",
    "# Commit the changes to the database\n",
    "connector.commit()\n",
    "\n",
    "# Close the cursor and the database connection\n",
    "cursor.close()\n",
    "connector.close()\n"
   ]
  },
  {
   "cell_type": "code",
   "execution_count": null,
   "metadata": {},
   "outputs": [],
   "source": [
    "import mysql.connector\n",
    "\n",
    "def insert_emotion_data(time, angry, disgust, fear, happy, sad, surprise, neutral):\n",
    "    # Establish a connection to the MySQL database\n",
    "    connector = mysql.connector.connect(\n",
    "        host=\"sql.freedb.tech\",\n",
    "        user=\"freedb_anshu\",\n",
    "        password=\"t3guc77PZ?GnE9n\",\n",
    "        database=\"freedb_hackathon_ai\"\n",
    "    )\n",
    "\n",
    "    # Create a cursor object to execute SQL queries\n",
    "    cursor = connector.cursor()\n",
    "\n",
    "    # SQL query to insert data into the \"emotion\" table\n",
    "    insert_query = \"\"\"\n",
    "    INSERT INTO emotion (time, angry, disgust, fear, happy, sad, surprise, neutral)\n",
    "    VALUES (%s, %s, %s, %s, %s, %s, %s, %s)\n",
    "    \"\"\"\n",
    "\n",
    "    # Data to be inserted\n",
    "    data = (time, angry, disgust, fear, happy, sad, surprise, neutral)\n",
    "\n",
    "    try:\n",
    "        # Execute the SQL query to insert data\n",
    "        cursor.execute(insert_query, data)\n",
    "\n",
    "        # Commit the changes to the database\n",
    "        connector.commit()\n",
    "        print(\"Data inserted successfully!\")\n",
    "    except Exception as e:\n",
    "        # Rollback the changes if an error occurs\n",
    "        connector.rollback()\n",
    "        print(f\"Error: {str(e)}\")\n",
    "\n",
    "    # Close the cursor and the database connection\n",
    "    cursor.close()\n",
    "    connector.close()\n"
   ]
  }
 ],
 "metadata": {
  "kernelspec": {
   "display_name": "NLP",
   "language": "python",
   "name": "python3"
  },
  "language_info": {
   "codemirror_mode": {
    "name": "ipython",
    "version": 3
   },
   "file_extension": ".py",
   "mimetype": "text/x-python",
   "name": "python",
   "nbconvert_exporter": "python",
   "pygments_lexer": "ipython3",
   "version": "3.11.2"
  },
  "orig_nbformat": 4
 },
 "nbformat": 4,
 "nbformat_minor": 2
}
