{
 "cells": [
  {
   "cell_type": "code",
   "execution_count": 1,
   "metadata": {},
   "outputs": [],
   "source": [
    "import pandas as pd\n",
    "import numpy as np\n",
    "import matplotlib.pyplot as plt\n",
    "from deepface import DeepFace\n",
    "import cv2\n",
    "import seaborn as sns  \n",
    "from spare_parts import *"
   ]
  },
  {
   "cell_type": "code",
   "execution_count": 9,
   "metadata": {},
   "outputs": [
    {
     "name": "stdout",
     "output_type": "stream",
     "text": [
      "Data inserted successfully!\n"
     ]
    }
   ],
   "source": [
    "insert_emotion_data(2,3,4,5,6,7,3)"
   ]
  },
  {
   "cell_type": "code",
   "execution_count": 12,
   "metadata": {},
   "outputs": [],
   "source": [
    "image_1 = cv2.imread(\"testing.jpg\")"
   ]
  },
  {
   "cell_type": "code",
   "execution_count": 13,
   "metadata": {},
   "outputs": [
    {
     "name": "stderr",
     "output_type": "stream",
     "text": [
      "Action: emotion: 100%|██████████| 1/1 [00:00<00:00,  4.67it/s]\n",
      "Action: emotion: 100%|██████████| 1/1 [00:00<00:00,  3.13it/s]\n",
      "Action: emotion: 100%|██████████| 1/1 [00:00<00:00,  3.82it/s]\n",
      "Action: emotion: 100%|██████████| 1/1 [00:00<00:00,  3.41it/s]\n",
      "Action: emotion: 100%|██████████| 1/1 [00:00<00:00,  4.44it/s]\n",
      "Action: emotion: 100%|██████████| 1/1 [00:00<00:00,  4.95it/s]\n",
      "Action: emotion: 100%|██████████| 1/1 [00:00<00:00,  5.77it/s]\n"
     ]
    }
   ],
   "source": [
    "data_1 = DeepFace.analyze(image_1, actions = ['emotion'])"
   ]
  },
  {
   "cell_type": "code",
   "execution_count": 14,
   "metadata": {},
   "outputs": [
    {
     "data": {
      "text/plain": [
       "[{'emotion': {'angry': 0.43373035989584685,\n",
       "   'disgust': 0.01932462297778192,\n",
       "   'fear': 1.6871769986854195,\n",
       "   'happy': 94.31741203769518,\n",
       "   'sad': 1.3172631937124248,\n",
       "   'surprise': 0.4124942015853048,\n",
       "   'neutral': 1.8126008249879375},\n",
       "  'dominant_emotion': 'happy',\n",
       "  'region': {'x': 323, 'y': 130, 'w': 74, 'h': 74}},\n",
       " {'emotion': {'angry': 0.001020368896998567,\n",
       "   'disgust': 7.822884140460278e-07,\n",
       "   'fear': 1.8772746255118088e-06,\n",
       "   'happy': 99.9961316583235,\n",
       "   'sad': 0.0018578001997891932,\n",
       "   'surprise': 6.694550735332156e-06,\n",
       "   'neutral': 0.0009786334559391636},\n",
       "  'dominant_emotion': 'happy',\n",
       "  'region': {'x': 196, 'y': 57, 'w': 75, 'h': 75}},\n",
       " {'emotion': {'angry': 8.860129696586228e-05,\n",
       "   'disgust': 1.422146580186412e-10,\n",
       "   'fear': 3.328825215476172e-07,\n",
       "   'happy': 99.13654327392578,\n",
       "   'sad': 0.0002740567197179189,\n",
       "   'surprise': 4.088650484845857e-06,\n",
       "   'neutral': 0.8630851283669472},\n",
       "  'dominant_emotion': 'happy',\n",
       "  'region': {'x': 401, 'y': 57, 'w': 96, 'h': 96}},\n",
       " {'emotion': {'angry': 5.8621196785679786e-05,\n",
       "   'disgust': 6.833202059741694e-09,\n",
       "   'fear': 0.0015405623344122432,\n",
       "   'happy': 98.58119487762451,\n",
       "   'sad': 9.102091098611709e-05,\n",
       "   'surprise': 0.03567878738977015,\n",
       "   'neutral': 1.3814406469464302},\n",
       "  'dominant_emotion': 'happy',\n",
       "  'region': {'x': 224, 'y': 211, 'w': 91, 'h': 91}},\n",
       " {'emotion': {'angry': 98.73906962508379,\n",
       "   'disgust': 0.0009136482366346634,\n",
       "   'fear': 0.04485851944977906,\n",
       "   'happy': 0.9337975268839316,\n",
       "   'sad': 0.01042749052737783,\n",
       "   'surprise': 0.054270090510403546,\n",
       "   'neutral': 0.21666999800771464},\n",
       "  'dominant_emotion': 'angry',\n",
       "  'region': {'x': 288, 'y': 283, 'w': 72, 'h': 72}},\n",
       " {'emotion': {'angry': 5.735703578757523e-10,\n",
       "   'disgust': 4.859284022796888e-14,\n",
       "   'fear': 1.8737216223030373e-06,\n",
       "   'happy': 99.98292922973633,\n",
       "   'sad': 3.363526568378461e-07,\n",
       "   'surprise': 0.0007349691259150859,\n",
       "   'neutral': 0.016334897372871637},\n",
       "  'dominant_emotion': 'happy',\n",
       "  'region': {'x': 348, 'y': 264, 'w': 82, 'h': 82}},\n",
       " {'emotion': {'angry': 0.12255395698649203,\n",
       "   'disgust': 0.08119859463216726,\n",
       "   'fear': 0.046917924419516394,\n",
       "   'happy': 94.14025018927452,\n",
       "   'sad': 5.571476450982517,\n",
       "   'surprise': 0.00024819375309448186,\n",
       "   'neutral': 0.03734529446326411},\n",
       "  'dominant_emotion': 'happy',\n",
       "  'region': {'x': 440, 'y': 242, 'w': 88, 'h': 88}}]"
      ]
     },
     "execution_count": 14,
     "metadata": {},
     "output_type": "execute_result"
    }
   ],
   "source": [
    "\n",
    "data_1"
   ]
  },
  {
   "cell_type": "code",
   "execution_count": 31,
   "metadata": {},
   "outputs": [
    {
     "data": {
      "text/plain": [
       "{'angry': 1,\n",
       " 'disgust': 0,\n",
       " 'fear': 0,\n",
       " 'happy': 6,\n",
       " 'sad': 0,\n",
       " 'surprise': 0,\n",
       " 'neutral': 0}"
      ]
     },
     "execution_count": 31,
     "metadata": {},
     "output_type": "execute_result"
    }
   ],
   "source": [
    "dict_1 = {'angry': 0, 'disgust' : 0,'fear' : 0, 'happy' : 0, 'sad' : 0,'surprise' : 0,'neutral': 0}\n",
    "for i in data_1:\n",
    "    dict_1[i['dominant_emotion']] += 1\n",
    "dict_1"
   ]
  },
  {
   "cell_type": "code",
   "execution_count": 32,
   "metadata": {},
   "outputs": [
    {
     "data": {
      "text/plain": [
       "dict_values([1, 0, 0, 6, 0, 0, 0])"
      ]
     },
     "execution_count": 32,
     "metadata": {},
     "output_type": "execute_result"
    }
   ],
   "source": [
    "dict_1.values()"
   ]
  },
  {
   "attachments": {},
   "cell_type": "markdown",
   "metadata": {},
   "source": [
    "<h1> DataBase Area </h1>"
   ]
  },
  {
   "cell_type": "code",
   "execution_count": null,
   "metadata": {},
   "outputs": [],
   "source": [
    "# making new database\\\n",
    "\"\"\"  \n",
    "Host => shubhanshu__mishra\n",
    "\"\"\""
   ]
  },
  {
   "cell_type": "code",
   "execution_count": 2,
   "metadata": {},
   "outputs": [],
   "source": [
    "import mysql.connector\n",
    "import pytz\n",
    "from datetime import datetime"
   ]
  },
  {
   "cell_type": "code",
   "execution_count": 3,
   "metadata": {},
   "outputs": [],
   "source": [
    "timezone = pytz.timezone(\"Asia/Kolkata\")\n",
    "date_now = datetime.now(timezone)\n",
    "now = date_now.strftime('%Y-%m-%d %H:%M:%S')"
   ]
  },
  {
   "cell_type": "code",
   "execution_count": 2,
   "metadata": {},
   "outputs": [
    {
     "name": "stdout",
     "output_type": "stream",
     "text": [
      "('2023-06-20 09:27:14', '0', '0', '0', '0', '0', '0', '1')\n",
      "('2023-06-20 09:27:53', '0', '0', '0', '0', '0', '1', '0')\n",
      "('2023-06-20 09:28:09', '0', '0', '0', '0', '0', '1', '0')\n",
      "('2023-06-20 09:28:13', '0', '0', '0', '0', '0', '0', '1')\n",
      "('2023-06-20 09:28:19', '0', '0', '0', '0', '0', '1', '0')\n",
      "('2023-06-23 21:49:44', '0', '0', '0', '0', '0', '0', '1')\n",
      "('2023-06-23 21:49:50', '0', '0', '0', '0', '0', '0', '1')\n",
      "('2023-06-23 21:49:55', '0', '0', '0', '0', '0', '0', '1')\n",
      "('2023-06-23 21:50:07', '0', '0', '0', '0', '0', '0', '1')\n",
      "('2023-06-23 21:50:10', '0', '0', '0', '0', '0', '0', '1')\n",
      "('2023-06-23 21:50:15', '0', '0', '0', '0', '0', '0', '1')\n",
      "('2023-06-23 21:50:28', '0', '0', '0', '0', '0', '0', '1')\n",
      "('2023-06-23 21:50:35', '0', '0', '0', '0', '0', '0', '1')\n",
      "('2023-06-23 21:53:57', '0', '0', '0', '0', '0', '0', '1')\n",
      "('2023-06-23 21:54:02', '0', '0', '0', '0', '0', '0', '1')\n",
      "('2023-06-23 21:54:08', '0', '0', '0', '0', '0', '0', '1')\n",
      "('2023-06-23 21:54:13', '0', '0', '0', '0', '0', '0', '1')\n",
      "('2023-06-23 21:54:33', '0', '0', '0', '0', '0', '0', '1')\n",
      "('2023-06-23 21:54:49', '0', '0', '0', '0', '0', '0', '1')\n",
      "('2023-06-23 21:55:00', '0', '0', '0', '0', '0', '0', '1')\n",
      "('2023-06-23 21:55:13', '0', '0', '0', '0', '0', '0', '1')\n",
      "('2023-06-23 21:55:16', '0', '0', '0', '0', '0', '0', '1')\n",
      "('2023-06-23 21:55:59', '0', '0', '0', '0', '0', '0', '1')\n",
      "('2023-06-23 21:56:04', '0', '0', '0', '0', '0', '0', '1')\n",
      "('2023-06-23 21:56:10', '0', '0', '0', '0', '0', '1', '0')\n",
      "('2023-06-23 21:56:14', '0', '0', '0', '0', '0', '0', '1')\n",
      "('2023-06-23 21:56:18', '0', '0', '0', '0', '0', '0', '1')\n",
      "('2023-06-23 21:58:47', '0', '0', '0', '0', '0', '0', '1')\n",
      "('2023-06-23 21:58:51', '0', '0', '0', '0', '0', '0', '1')\n",
      "('2023-06-23 21:59:08', '0', '0', '0', '0', '0', '0', '1')\n",
      "('2023-06-23 21:59:11', '0', '0', '0', '0', '0', '0', '1')\n",
      "('2023-06-23 21:59:23', '0', '0', '0', '0', '0', '0', '1')\n"
     ]
    }
   ],
   "source": [
    "connector = mysql.connector.connect(\n",
    "    host=\"sql.freedb.tech\",\n",
    "    user=\"freedb_anshu\",\n",
    "    password = \"t3guc77PZ?GnE9n\",\n",
    "    database = \"freedb_hackathon_ai\"\n",
    ")\n",
    "cursor = connector.cursor()\n",
    "cursor.execute(\"SELECT * FROM emotion\")\n",
    "for i in cursor:\n",
    "    print(i)"
   ]
  },
  {
   "cell_type": "code",
   "execution_count": 1,
   "metadata": {},
   "outputs": [],
   "source": [
    "import mysql.connector\n",
    "\n",
    "def drop_emotion_data():\n",
    "    # Establish a connection to the MySQL database\n",
    "    connector = mysql.connector.connect(\n",
    "        host=\"sql.freedb.tech\",\n",
    "        user=\"freedb_anshu\",\n",
    "        password=\"t3guc77PZ?GnE9n\",\n",
    "        database=\"freedb_hackathon_ai\"\n",
    "    )\n",
    "\n",
    "    # Create a cursor object to execute SQL queries\n",
    "    cursor = connector.cursor()\n",
    "\n",
    "    # SQL query to drop data from the \"emotion\" table\n",
    "    truncate_query = \"TRUNCATE TABLE emotion\"\n",
    "\n",
    "    try:\n",
    "        # Execute the SQL query to drop data\n",
    "        cursor.execute(truncate_query)\n",
    "\n",
    "        # Commit the changes to the database\n",
    "        connector.commit()\n",
    "        print(\"Data dropped successfully!\")\n",
    "    except Exception as e:\n",
    "        # Rollback the changes if an error occurs\n",
    "        connector.rollback()\n",
    "        print(f\"Error: {str(e)}\")\n",
    "\n",
    "    # Close the cursor and the database connection\n",
    "    cursor.close()\n",
    "    connector.close()\n"
   ]
  },
  {
   "cell_type": "code",
   "execution_count": 2,
   "metadata": {},
   "outputs": [
    {
     "name": "stdout",
     "output_type": "stream",
     "text": [
      "Data dropped successfully!\n"
     ]
    }
   ],
   "source": [
    "drop_emotion_data()"
   ]
  },
  {
   "cell_type": "code",
   "execution_count": 5,
   "metadata": {},
   "outputs": [
    {
     "name": "stdout",
     "output_type": "stream",
     "text": [
      "('2023-06-19 18:59:10', '2', '3', '4', '5', '6', '7', '3')\n",
      "('2023-06-19 22:18:43', '1', '0', '0', '0', '0', '0', '0')\n",
      "('2023-06-19 22:18:47', '0', '0', '0', '0', '0', '0', '1')\n",
      "('2023-06-19 22:19:04', '0', '0', '0', '0', '0', '0', '1')\n",
      "('2023-06-19 22:19:08', '0', '0', '0', '0', '0', '0', '1')\n",
      "('2023-06-19 22:19:15', '0', '0', '0', '0', '0', '0', '1')\n",
      "('2023-06-19 22:19:25', '0', '0', '0', '0', '0', '0', '1')\n",
      "('2023-06-19 22:19:36', '0', '0', '0', '0', '0', '0', '1')\n",
      "('2023-06-19 22:20:41', '0', '0', '0', '0', '0', '0', '1')\n",
      "('2023-06-19 22:24:30', '0', '0', '0', '0', '0', '0', '1')\n",
      "('2023-06-19 22:24:34', '0', '0', '0', '0', '0', '0', '1')\n",
      "('2023-06-19 22:47:38', '0', '0', '0', '0', '1', '0', '0')\n",
      "('2023-06-19 22:47:42', '1', '0', '0', '0', '0', '0', '0')\n",
      "('2023-06-19 22:47:52', '0', '0', '0', '0', '0', '0', '1')\n",
      "('2023-06-19 22:49:44', '1', '0', '0', '0', '0', '0', '0')\n",
      "('2023-06-19 22:49:55', '0', '0', '0', '0', '1', '0', '0')\n",
      "('2023-06-19 22:50:04', '1', '0', '0', '0', '0', '0', '0')\n",
      "('2023-06-19 22:50:15', '0', '0', '0', '0', '0', '0', '1')\n"
     ]
    }
   ],
   "source": [
    "cursor = connector.cursor()\n",
    "cursor.execute(\"SELECT * FROM emotion\")\n",
    "for i in cursor:\n",
    "    print(i)"
   ]
  },
  {
   "cell_type": "code",
   "execution_count": 29,
   "metadata": {},
   "outputs": [
    {
     "name": "stdout",
     "output_type": "stream",
     "text": [
      "('freedb_hackathon_ai',)\n",
      "('information_schema',)\n",
      "('performance_schema',)\n"
     ]
    }
   ],
   "source": [
    "\n",
    "for i in cursor:\n",
    "    print(i)"
   ]
  },
  {
   "cell_type": "code",
   "execution_count": 6,
   "metadata": {},
   "outputs": [
    {
     "data": {
      "image/png": "[encoded data removed]",
      "text/plain": [
       "<Figure size 1000x600 with 1 Axes>"
      ]
     },
     "metadata": {},
     "output_type": "display_data"
    }
   ],
   "source": [
    "import matplotlib.pyplot as plt\n",
    "\n",
    "# Define the data\n",
    "timestamps = ['2023-06-19 18:59:10', '2023-06-19 22:18:43', '2023-06-19 22:18:47', '2023-06-19 22:19:04', '2023-06-19 22:19:08', '2023-06-19 22:19:15', '2023-06-19 22:19:25', '2023-06-19 22:19:36', '2023-06-19 22:20:41', '2023-06-19 22:24:30', '2023-06-19 22:24:34', '2023-06-19 22:47:38', '2023-06-19 22:47:42', '2023-06-19 22:47:52', '2023-06-19 22:49:44', '2023-06-19 22:49:55', '2023-06-19 22:50:04', '2023-06-19 22:50:15']\n",
    "angry = [2, 1, 0, 0, 0, 0, 0, 0, 0, 0, 0, 0, 1, 0, 1, 0, 1, 0]\n",
    "disgust = [3, 0, 0, 0, 0, 0, 0, 0, 0, 0, 0, 0, 0, 0, 0, 0, 0, 0]\n",
    "fear = [4, 0, 0, 0, 0, 0, 0, 0, 0, 0, 0, 0, 0, 0, 0, 0, 0, 0]\n",
    "happy = [5, 0, 0, 0, 0, 0, 0, 0, 0, 0, 0, 1, 0, 0, 0, 0, 0, 0]\n",
    "sad = [6, 0, 0, 0, 0, 0, 0, 0, 0, 0, 0, 0, 0, 0, 0, 1, 0, 0]\n",
    "surprise = [7, 0, 0, 0, 0, 0, 0, 0, 0, 0, 0, 0, 0, 1, 0, 0, 0, 0]\n",
    "neutral = [3, 0, 1, 1, 1, 1, 1, 1, 1, 1, 1, 0, 1, 0, 0, 0, 0, 1]\n",
    "\n",
    "# Plot the emotions over time\n",
    "plt.figure(figsize=(10, 6))\n",
    "plt.plot(timestamps, angry, label='Angry')\n",
    "plt.plot(timestamps, disgust, label='Disgust')\n",
    "plt.plot(timestamps, fear, label='Fear')\n",
    "plt.plot(timestamps, happy, label='Happy')\n",
    "plt.plot(timestamps, sad, label='Sad')\n",
    "plt.plot(timestamps, surprise, label='Surprise')\n",
    "plt.plot(timestamps, neutral, label='Neutral')\n",
    "\n",
    "# Set plot title and labels\n",
    "plt.title('Emotions Over Time')\n",
    "plt.xlabel('Timestamp')\n",
    "plt.ylabel('Intensity')\n",
    "\n",
    "# Rotate x-axis labels for better readability\n",
    "plt.xticks(rotation=45)\n",
    "\n",
    "# Add a legend\n",
    "plt.legend()\n",
    "\n",
    "# Show the plot\n",
    "plt.show()\n"
   ]
  },
  {
   "cell_type": "code",
   "execution_count": 9,
   "metadata": {},
   "outputs": [],
   "source": [
    "data_raw_copy = pd.read_csv(\"emotion_data.csv\")"
   ]
  },
  {
   "cell_type": "code",
   "execution_count": 11,
   "metadata": {},
   "outputs": [
    {
     "data": {
      "text/html": [
       "<div>\n",
       "<style scoped>\n",
       "    .dataframe tbody tr th:only-of-type {\n",
       "        vertical-align: middle;\n",
       "    }\n",
       "\n",
       "    .dataframe tbody tr th {\n",
       "        vertical-align: top;\n",
       "    }\n",
       "\n",
       "    .dataframe thead th {\n",
       "        text-align: right;\n",
       "    }\n",
       "</style>\n",
       "<table border=\"1\" class=\"dataframe\">\n",
       "  <thead>\n",
       "    <tr style=\"text-align: right;\">\n",
       "      <th></th>\n",
       "      <th>Unnamed: 0</th>\n",
       "      <th>Angry</th>\n",
       "      <th>Disgust</th>\n",
       "      <th>Fear</th>\n",
       "      <th>Happy</th>\n",
       "      <th>Sad</th>\n",
       "      <th>Surprise</th>\n",
       "      <th>Neutral</th>\n",
       "    </tr>\n",
       "  </thead>\n",
       "  <tbody>\n",
       "    <tr>\n",
       "      <th>0</th>\n",
       "      <td>0</td>\n",
       "      <td>2</td>\n",
       "      <td>3</td>\n",
       "      <td>4</td>\n",
       "      <td>5</td>\n",
       "      <td>6</td>\n",
       "      <td>7</td>\n",
       "      <td>3</td>\n",
       "    </tr>\n",
       "    <tr>\n",
       "      <th>1</th>\n",
       "      <td>1</td>\n",
       "      <td>1</td>\n",
       "      <td>0</td>\n",
       "      <td>0</td>\n",
       "      <td>0</td>\n",
       "      <td>0</td>\n",
       "      <td>0</td>\n",
       "      <td>0</td>\n",
       "    </tr>\n",
       "    <tr>\n",
       "      <th>2</th>\n",
       "      <td>2</td>\n",
       "      <td>0</td>\n",
       "      <td>0</td>\n",
       "      <td>0</td>\n",
       "      <td>0</td>\n",
       "      <td>0</td>\n",
       "      <td>0</td>\n",
       "      <td>1</td>\n",
       "    </tr>\n",
       "    <tr>\n",
       "      <th>3</th>\n",
       "      <td>3</td>\n",
       "      <td>0</td>\n",
       "      <td>0</td>\n",
       "      <td>0</td>\n",
       "      <td>0</td>\n",
       "      <td>0</td>\n",
       "      <td>0</td>\n",
       "      <td>1</td>\n",
       "    </tr>\n",
       "    <tr>\n",
       "      <th>4</th>\n",
       "      <td>4</td>\n",
       "      <td>0</td>\n",
       "      <td>0</td>\n",
       "      <td>0</td>\n",
       "      <td>0</td>\n",
       "      <td>0</td>\n",
       "      <td>0</td>\n",
       "      <td>1</td>\n",
       "    </tr>\n",
       "    <tr>\n",
       "      <th>5</th>\n",
       "      <td>5</td>\n",
       "      <td>0</td>\n",
       "      <td>0</td>\n",
       "      <td>0</td>\n",
       "      <td>0</td>\n",
       "      <td>0</td>\n",
       "      <td>0</td>\n",
       "      <td>1</td>\n",
       "    </tr>\n",
       "    <tr>\n",
       "      <th>6</th>\n",
       "      <td>6</td>\n",
       "      <td>0</td>\n",
       "      <td>0</td>\n",
       "      <td>0</td>\n",
       "      <td>0</td>\n",
       "      <td>0</td>\n",
       "      <td>0</td>\n",
       "      <td>1</td>\n",
       "    </tr>\n",
       "    <tr>\n",
       "      <th>7</th>\n",
       "      <td>7</td>\n",
       "      <td>0</td>\n",
       "      <td>0</td>\n",
       "      <td>0</td>\n",
       "      <td>0</td>\n",
       "      <td>0</td>\n",
       "      <td>0</td>\n",
       "      <td>1</td>\n",
       "    </tr>\n",
       "    <tr>\n",
       "      <th>8</th>\n",
       "      <td>8</td>\n",
       "      <td>0</td>\n",
       "      <td>0</td>\n",
       "      <td>0</td>\n",
       "      <td>0</td>\n",
       "      <td>0</td>\n",
       "      <td>0</td>\n",
       "      <td>1</td>\n",
       "    </tr>\n",
       "    <tr>\n",
       "      <th>9</th>\n",
       "      <td>9</td>\n",
       "      <td>0</td>\n",
       "      <td>0</td>\n",
       "      <td>0</td>\n",
       "      <td>0</td>\n",
       "      <td>0</td>\n",
       "      <td>0</td>\n",
       "      <td>1</td>\n",
       "    </tr>\n",
       "    <tr>\n",
       "      <th>10</th>\n",
       "      <td>10</td>\n",
       "      <td>0</td>\n",
       "      <td>0</td>\n",
       "      <td>0</td>\n",
       "      <td>0</td>\n",
       "      <td>0</td>\n",
       "      <td>0</td>\n",
       "      <td>1</td>\n",
       "    </tr>\n",
       "    <tr>\n",
       "      <th>11</th>\n",
       "      <td>11</td>\n",
       "      <td>0</td>\n",
       "      <td>0</td>\n",
       "      <td>0</td>\n",
       "      <td>0</td>\n",
       "      <td>1</td>\n",
       "      <td>0</td>\n",
       "      <td>0</td>\n",
       "    </tr>\n",
       "    <tr>\n",
       "      <th>12</th>\n",
       "      <td>12</td>\n",
       "      <td>1</td>\n",
       "      <td>0</td>\n",
       "      <td>0</td>\n",
       "      <td>0</td>\n",
       "      <td>0</td>\n",
       "      <td>0</td>\n",
       "      <td>0</td>\n",
       "    </tr>\n",
       "    <tr>\n",
       "      <th>13</th>\n",
       "      <td>13</td>\n",
       "      <td>0</td>\n",
       "      <td>0</td>\n",
       "      <td>0</td>\n",
       "      <td>0</td>\n",
       "      <td>0</td>\n",
       "      <td>0</td>\n",
       "      <td>1</td>\n",
       "    </tr>\n",
       "    <tr>\n",
       "      <th>14</th>\n",
       "      <td>14</td>\n",
       "      <td>1</td>\n",
       "      <td>0</td>\n",
       "      <td>0</td>\n",
       "      <td>0</td>\n",
       "      <td>0</td>\n",
       "      <td>0</td>\n",
       "      <td>0</td>\n",
       "    </tr>\n",
       "    <tr>\n",
       "      <th>15</th>\n",
       "      <td>15</td>\n",
       "      <td>0</td>\n",
       "      <td>0</td>\n",
       "      <td>0</td>\n",
       "      <td>0</td>\n",
       "      <td>1</td>\n",
       "      <td>0</td>\n",
       "      <td>0</td>\n",
       "    </tr>\n",
       "    <tr>\n",
       "      <th>16</th>\n",
       "      <td>16</td>\n",
       "      <td>1</td>\n",
       "      <td>0</td>\n",
       "      <td>0</td>\n",
       "      <td>0</td>\n",
       "      <td>0</td>\n",
       "      <td>0</td>\n",
       "      <td>0</td>\n",
       "    </tr>\n",
       "    <tr>\n",
       "      <th>17</th>\n",
       "      <td>17</td>\n",
       "      <td>0</td>\n",
       "      <td>0</td>\n",
       "      <td>0</td>\n",
       "      <td>0</td>\n",
       "      <td>0</td>\n",
       "      <td>0</td>\n",
       "      <td>1</td>\n",
       "    </tr>\n",
       "  </tbody>\n",
       "</table>\n",
       "</div>"
      ],
      "text/plain": [
       "    Unnamed: 0  Angry  Disgust  Fear  Happy  Sad  Surprise  Neutral\n",
       "0            0      2        3     4      5    6         7        3\n",
       "1            1      1        0     0      0    0         0        0\n",
       "2            2      0        0     0      0    0         0        1\n",
       "3            3      0        0     0      0    0         0        1\n",
       "4            4      0        0     0      0    0         0        1\n",
       "5            5      0        0     0      0    0         0        1\n",
       "6            6      0        0     0      0    0         0        1\n",
       "7            7      0        0     0      0    0         0        1\n",
       "8            8      0        0     0      0    0         0        1\n",
       "9            9      0        0     0      0    0         0        1\n",
       "10          10      0        0     0      0    0         0        1\n",
       "11          11      0        0     0      0    1         0        0\n",
       "12          12      1        0     0      0    0         0        0\n",
       "13          13      0        0     0      0    0         0        1\n",
       "14          14      1        0     0      0    0         0        0\n",
       "15          15      0        0     0      0    1         0        0\n",
       "16          16      1        0     0      0    0         0        0\n",
       "17          17      0        0     0      0    0         0        1"
      ]
     },
     "execution_count": 11,
     "metadata": {},
     "output_type": "execute_result"
    }
   ],
   "source": [
    "data_raw_copy"
   ]
  },
  {
   "cell_type": "code",
   "execution_count": 12,
   "metadata": {},
   "outputs": [],
   "source": [
    "data_raw_copy[['Angry','Disgust', 'Fear', 'Happy','Sad','Surprise', 'Neutral']].sum()\n",
    "# getting neutral percentage\n",
    "neutral_percentage = data_raw_copy['Neutral'].sum() / data_raw_copy[['Angry','Disgust', 'Fear', 'Happy','Sad','Surprise', 'Neutral']].sum().sum()"
   ]
  },
  {
   "cell_type": "code",
   "execution_count": 16,
   "metadata": {},
   "outputs": [
    {
     "name": "stdout",
     "output_type": "stream",
     "text": [
      "<class 'pandas.core.frame.DataFrame'>\n",
      "RangeIndex: 18 entries, 0 to 17\n",
      "Data columns (total 8 columns):\n",
      " #   Column      Non-Null Count  Dtype\n",
      "---  ------      --------------  -----\n",
      " 0   Unnamed: 0  18 non-null     int64\n",
      " 1   Angry       18 non-null     int64\n",
      " 2   Disgust     18 non-null     int64\n",
      " 3   Fear        18 non-null     int64\n",
      " 4   Happy       18 non-null     int64\n",
      " 5   Sad         18 non-null     int64\n",
      " 6   Surprise    18 non-null     int64\n",
      " 7   Neutral     18 non-null     int64\n",
      "dtypes: int64(8)\n",
      "memory usage: 1.3 KB\n"
     ]
    }
   ],
   "source": [
    "data_1 = pd.read_csv(\"emotion_data.csv\")\n",
    "data_1.info()"
   ]
  },
  {
   "cell_type": "code",
   "execution_count": 13,
   "metadata": {},
   "outputs": [
    {
     "data": {
      "text/plain": [
       "0.2978723404255319"
      ]
     },
     "execution_count": 13,
     "metadata": {},
     "output_type": "execute_result"
    }
   ],
   "source": [
    "neutral_percentage"
   ]
  },
  {
   "cell_type": "code",
   "execution_count": 14,
   "metadata": {},
   "outputs": [
    {
     "data": {
      "text/plain": [
       "13"
      ]
     },
     "execution_count": 14,
     "metadata": {},
     "output_type": "execute_result"
    }
   ],
   "source": [
    "angry_list = list(data_raw_copy['Angry'])\n",
    "neutral_list = list(data_raw_copy['Neutral'])\n",
    "happy_list = list(data_raw_copy['Happy'])\n",
    "disgust_list = list(data_raw_copy['Disgust'])\n",
    "sad_list = list(data_raw_copy['Sad'])\n",
    "surpise_list = list(data_raw_copy['Surprise'])\n",
    "fear_list = list(data_raw_copy['Fear'])\n",
    "angry_crossing = []\n",
    "happy_crossing = []\n",
    "disgust_crossing = []\n",
    "sad_crossing = []\n",
    "surprise_crossing = []\n",
    "fear_crossing = []\n",
    "\n",
    "for i in range(len(neutral_list)):\n",
    "    try:\n",
    "        neutral_a = neutral_list[i]\n",
    "        angry_a =angry_list[i]\n",
    "        happy_a = happy_list[i]\n",
    "        disgust_a = disgust_list[i]\n",
    "        sad_a = sad_list[i]\n",
    "        surprise_a = surpise_list[i]\n",
    "        fear_a = fear_list[i]\n",
    "\n",
    "        # angry part section\n",
    "        if(neutral_a > angry_a):\n",
    "            angry_crossing.append(1)\n",
    "        else:\n",
    "            angry_crossing.append(0)\n",
    "        \n",
    "        # happy part section\n",
    "        if(neutral_a > happy_a):\n",
    "            happy_crossing.append(1)\n",
    "        else:\n",
    "            happy_crossing.append(0)\n",
    "        \n",
    "        # disgust part section\n",
    "        if(neutral_a > disgust_a):\n",
    "            disgust_crossing.append(1)\n",
    "        else:\n",
    "            disgust_crossing.append(0)\n",
    "        \n",
    "        # sad part section\n",
    "\n",
    "        if(neutral_a > sad_a):\n",
    "            sad_crossing.append(1)\n",
    "        else:\n",
    "            sad_crossing.append(0)\n",
    "        \n",
    "        # surprise part section\n",
    "        if(neutral_a > surprise_a):\n",
    "            surprise_crossing.append(1)\n",
    "        else:\n",
    "            surprise_crossing.append(0)\n",
    "        \n",
    "        # fear part section\n",
    "        if(neutral_a > fear_a):\n",
    "            fear_crossing.append(1)\n",
    "        else:\n",
    "            fear_crossing.append(0)\n",
    "        \n",
    "\n",
    "\n",
    "        \n",
    "\n",
    "    except:\n",
    "        continue\n",
    "# generating the textual data\n",
    "total_crossings = 0\n",
    "final_list = [angry_crossing,happy_crossing,disgust_crossing,sad_crossing,surprise_crossing,fear_crossing]\n",
    "for i in final_list:\n",
    "\n",
    "    for j in range(len(i)):\n",
    "        try:\n",
    "            alfa  = [i[j], i[j+1]]\n",
    "            if(alfa == [1,0]):    \n",
    "                #print(alfa)\n",
    "                total_crossings += 1\n",
    "            else:\n",
    "                continue\n",
    "        except:\n",
    "            continue\n",
    "\n",
    "total_crossings"
   ]
  },
  {
   "cell_type": "code",
   "execution_count": 15,
   "metadata": {},
   "outputs": [
    {
     "name": "stdout",
     "output_type": "stream",
     "text": [
      "The person is not paying attention\n",
      "the number of disturbances happened in the class were 13\n"
     ]
    }
   ],
   "source": [
    "# final_answer\n",
    "if(neutral_percentage > 0.5):  # this threshold is the assumed values\n",
    "    if(total_crossings > 5): # this is alos the assumed value\n",
    "        print(\"The person is not paying attention\")\n",
    "        print(\"the number of disturbances happened in the class were {}\".format(total_crossings))\n",
    "    else:\n",
    "        print(\"The person is paying attention\")\n",
    "else:\n",
    "    print(\"The person is not paying attention\")\n",
    "    print(\"the number of disturbances happened in the class were {}\".format(total_crossings))\n"
   ]
  },
  {
   "cell_type": "code",
   "execution_count": 30,
   "metadata": {},
   "outputs": [],
   "source": [
    "import mysql.connector\n",
    "\n",
    "# Establish a connection to the MySQL database\n",
    "connector = mysql.connector.connect(\n",
    "    host=\"sql.freedb.tech\",\n",
    "    user=\"freedb_anshu\",\n",
    "    password=\"t3guc77PZ?GnE9n\",\n",
    "    database=\"freedb_hackathon_ai\"\n",
    ")\n",
    "\n",
    "# Create a cursor object to execute SQL queries\n",
    "cursor = connector.cursor()\n",
    "\n",
    "# SQL query to create the \"emotion\" table\n",
    "create_table_query = \"\"\"\n",
    "CREATE TABLE emotion (\n",
    "    time VARCHAR(255),\n",
    "    angry VARCHAR(255),\n",
    "    disgust VARCHAR(255),\n",
    "    fear VARCHAR(255),\n",
    "    happy VARCHAR(255),\n",
    "    sad VARCHAR(255),\n",
    "    surprise VARCHAR(255),\n",
    "    neutral VARCHAR(255)\n",
    ")\n",
    "\"\"\"\n",
    "\n",
    "# Execute the SQL query to create the table\n",
    "cursor.execute(create_table_query)\n",
    "\n",
    "# Commit the changes to the database\n",
    "connector.commit()\n",
    "\n",
    "# Close the cursor and the database connection\n",
    "cursor.close()\n",
    "connector.close()\n"
   ]
  },
  {
   "cell_type": "code",
   "execution_count": null,
   "metadata": {},
   "outputs": [],
   "source": [
    "import mysql.connector\n",
    "\n",
    "def insert_emotion_data(time, angry, disgust, fear, happy, sad, surprise, neutral):\n",
    "    # Establish a connection to the MySQL database\n",
    "    connector = mysql.connector.connect(\n",
    "        host=\"sql.freedb.tech\",\n",
    "        user=\"freedb_anshu\",\n",
    "        password=\"t3guc77PZ?GnE9n\",\n",
    "        database=\"freedb_hackathon_ai\"\n",
    "    )\n",
    "\n",
    "    # Create a cursor object to execute SQL queries\n",
    "    cursor = connector.cursor()\n",
    "\n",
    "    # SQL query to insert data into the \"emotion\" table\n",
    "    insert_query = \"\"\"\n",
    "    INSERT INTO emotion (time, angry, disgust, fear, happy, sad, surprise, neutral)\n",
    "    VALUES (%s, %s, %s, %s, %s, %s, %s, %s)\n",
    "    \"\"\"\n",
    "\n",
    "    # Data to be inserted\n",
    "    data = (time, angry, disgust, fear, happy, sad, surprise, neutral)\n",
    "\n",
    "    try:\n",
    "        # Execute the SQL query to insert data\n",
    "        cursor.execute(insert_query, data)\n",
    "\n",
    "        # Commit the changes to the database\n",
    "        connector.commit()\n",
    "        print(\"Data inserted successfully!\")\n",
    "    except Exception as e:\n",
    "        # Rollback the changes if an error occurs\n",
    "        connector.rollback()\n",
    "        print(f\"Error: {str(e)}\")\n",
    "\n",
    "    # Close the cursor and the database connection\n",
    "    cursor.close()\n",
    "    connector.close()\n"
   ]
  }
 ],
 "metadata": {
  "kernelspec": {
   "display_name": "NLP",
   "language": "python",
   "name": "python3"
  },
  "language_info": {
   "codemirror_mode": {
    "name": "ipython",
    "version": 3
   },
   "file_extension": ".py",
   "mimetype": "text/x-python",
   "name": "python",
   "nbconvert_exporter": "python",
   "pygments_lexer": "ipython3",
   "version": "3.11.2"
  },
  "orig_nbformat": 4
 },
 "nbformat": 4,
 "nbformat_minor": 2
}
