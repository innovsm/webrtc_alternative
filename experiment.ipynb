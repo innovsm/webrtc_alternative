{
 "cells": [
  {
   "cell_type": "code",
   "execution_count": 1,
   "metadata": {},
   "outputs": [],
   "source": [
    "import mysql.connector\n",
    "import cv2\n",
    "import numpy as np\n",
    "import matplotlib.pyplot as plt\n",
    "from datetime import datetime"
   ]
  },
  {
   "cell_type": "code",
   "execution_count": 2,
   "metadata": {},
   "outputs": [],
   "source": [
    "def get_database_connection():\n",
    "    try:\n",
    "        my_db = mysql.connector.connect(\n",
    "            host=\"sql.freedb.tech\",\n",
    "            user=\"freedb_images\",\n",
    "            password=\"gEzze6ZHjU#M4e2\",\n",
    "            database=\"freedb_image_data\"\n",
    "        )\n",
    "        return my_db\n",
    "    except mysql.connector.Error as error:\n",
    "        print(\"Error while connecting to MySQL\", error)"
   ]
  },
  {
   "cell_type": "code",
   "execution_count": 3,
   "metadata": {},
   "outputs": [],
   "source": [
    "def upload(image_data):\n",
    "        \n",
    "\n",
    "        nparr = np.frombuffer(image_data, np.uint8)\n",
    "        print(\"-\",nparr)\n",
    "        \n",
    "        # Generate a filename with the current datetime\n",
    "        now = datetime.now()\n",
    "        filename = str(now)\n",
    "        \n",
    "        # Save the image to the database\n",
    "        try:\n",
    "            my_db = get_database_connection()\n",
    "            my_cursor = my_db.cursor()\n",
    "            sql = \"INSERT INTO images (name, image_data) VALUES (%s, %s)\"\n",
    "            val = (filename, nparr.tobytes())\n",
    "            my_cursor.execute(sql, val)\n",
    "            my_db.commit()\n",
    "            \n",
    "            return 'Image uploaded and saved successfully'\n",
    "        except mysql.connector.Error as error:\n",
    "            print(\"Error while saving image to the database\", error)\n",
    "            return 'An error occurred while uploading the image'"
   ]
  },
  {
   "cell_type": "code",
   "execution_count": 4,
   "metadata": {},
   "outputs": [
    {
     "name": "stdout",
     "output_type": "stream",
     "text": [
      "- [68 71 82 ... 23 34 81]\n",
      "- [ 31  41  85 ...  72  84 103]\n",
      "- [41 46 64 ... 43 50 90]\n"
     ]
    },
    {
     "name": "stderr",
     "output_type": "stream",
     "text": [
      "c:\\Users\\hp\\anaconda3\\envs\\data_science\\lib\\site-packages\\mysql\\connector\\abstracts.py:130: SyntaxWarning: \"is\" with a literal. Did you mean \"==\"?\n",
      "  if group is 'connector_python':\n",
      "c:\\Users\\hp\\anaconda3\\envs\\data_science\\lib\\site-packages\\mysql\\connector\\abstracts.py:130: SyntaxWarning: \"is\" with a literal. Did you mean \"==\"?\n",
      "  if group is 'connector_python':\n"
     ]
    },
    {
     "ename": "KeyboardInterrupt",
     "evalue": "",
     "output_type": "error",
     "traceback": [
      "\u001b[1;31m---------------------------------------------------------------------------\u001b[0m",
      "\u001b[1;31mKeyboardInterrupt\u001b[0m                         Traceback (most recent call last)",
      "Cell \u001b[1;32mIn[4], line 25\u001b[0m\n\u001b[0;32m     23\u001b[0m \u001b[39m# calling the main function here\u001b[39;00m\n\u001b[0;32m     24\u001b[0m \u001b[39mif\u001b[39;00m(count \u001b[39m==\u001b[39m \u001b[39m10\u001b[39m):\n\u001b[1;32m---> 25\u001b[0m     upload(frame)\n\u001b[0;32m     26\u001b[0m     count \u001b[39m=\u001b[39m \u001b[39m0\u001b[39m\n\u001b[0;32m     30\u001b[0m count \u001b[39m+\u001b[39m\u001b[39m=\u001b[39m \u001b[39m1\u001b[39m\n",
      "Cell \u001b[1;32mIn[3], line 13\u001b[0m, in \u001b[0;36mupload\u001b[1;34m(image_data)\u001b[0m\n\u001b[0;32m     11\u001b[0m \u001b[39m# Save the image to the database\u001b[39;00m\n\u001b[0;32m     12\u001b[0m \u001b[39mtry\u001b[39;00m:\n\u001b[1;32m---> 13\u001b[0m     my_db \u001b[39m=\u001b[39m get_database_connection()\n\u001b[0;32m     14\u001b[0m     my_cursor \u001b[39m=\u001b[39m my_db\u001b[39m.\u001b[39mcursor()\n\u001b[0;32m     15\u001b[0m     sql \u001b[39m=\u001b[39m \u001b[39m\"\u001b[39m\u001b[39mINSERT INTO images (name, image_data) VALUES (\u001b[39m\u001b[39m%s\u001b[39;00m\u001b[39m, \u001b[39m\u001b[39m%s\u001b[39;00m\u001b[39m)\u001b[39m\u001b[39m\"\u001b[39m\n",
      "Cell \u001b[1;32mIn[2], line 3\u001b[0m, in \u001b[0;36mget_database_connection\u001b[1;34m()\u001b[0m\n\u001b[0;32m      1\u001b[0m \u001b[39mdef\u001b[39;00m \u001b[39mget_database_connection\u001b[39m():\n\u001b[0;32m      2\u001b[0m     \u001b[39mtry\u001b[39;00m:\n\u001b[1;32m----> 3\u001b[0m         my_db \u001b[39m=\u001b[39m mysql\u001b[39m.\u001b[39;49mconnector\u001b[39m.\u001b[39;49mconnect(\n\u001b[0;32m      4\u001b[0m             host\u001b[39m=\u001b[39;49m\u001b[39m\"\u001b[39;49m\u001b[39msql.freedb.tech\u001b[39;49m\u001b[39m\"\u001b[39;49m,\n\u001b[0;32m      5\u001b[0m             user\u001b[39m=\u001b[39;49m\u001b[39m\"\u001b[39;49m\u001b[39mfreedb_images\u001b[39;49m\u001b[39m\"\u001b[39;49m,\n\u001b[0;32m      6\u001b[0m             password\u001b[39m=\u001b[39;49m\u001b[39m\"\u001b[39;49m\u001b[39mgEzze6ZHjU#M4e2\u001b[39;49m\u001b[39m\"\u001b[39;49m,\n\u001b[0;32m      7\u001b[0m             database\u001b[39m=\u001b[39;49m\u001b[39m\"\u001b[39;49m\u001b[39mfreedb_image_data\u001b[39;49m\u001b[39m\"\u001b[39;49m\n\u001b[0;32m      8\u001b[0m         )\n\u001b[0;32m      9\u001b[0m         \u001b[39mreturn\u001b[39;00m my_db\n\u001b[0;32m     10\u001b[0m     \u001b[39mexcept\u001b[39;00m mysql\u001b[39m.\u001b[39mconnector\u001b[39m.\u001b[39mError \u001b[39mas\u001b[39;00m error:\n",
      "File \u001b[1;32mc:\\Users\\hp\\anaconda3\\envs\\data_science\\lib\\site-packages\\mysql\\connector\\__init__.py:179\u001b[0m, in \u001b[0;36mconnect\u001b[1;34m(*args, **kwargs)\u001b[0m\n\u001b[0;32m    177\u001b[0m     \u001b[39mreturn\u001b[39;00m CMySQLConnection(\u001b[39m*\u001b[39margs, \u001b[39m*\u001b[39m\u001b[39m*\u001b[39mkwargs)\n\u001b[0;32m    178\u001b[0m \u001b[39melse\u001b[39;00m:\n\u001b[1;32m--> 179\u001b[0m     \u001b[39mreturn\u001b[39;00m MySQLConnection(\u001b[39m*\u001b[39margs, \u001b[39m*\u001b[39m\u001b[39m*\u001b[39mkwargs)\n",
      "File \u001b[1;32mc:\\Users\\hp\\anaconda3\\envs\\data_science\\lib\\site-packages\\mysql\\connector\\connection.py:95\u001b[0m, in \u001b[0;36mMySQLConnection.__init__\u001b[1;34m(self, *args, **kwargs)\u001b[0m\n\u001b[0;32m     92\u001b[0m \u001b[39mself\u001b[39m\u001b[39m.\u001b[39m_pool_config_version \u001b[39m=\u001b[39m \u001b[39mNone\u001b[39;00m\n\u001b[0;32m     94\u001b[0m \u001b[39mif\u001b[39;00m \u001b[39mlen\u001b[39m(kwargs) \u001b[39m>\u001b[39m \u001b[39m0\u001b[39m:\n\u001b[1;32m---> 95\u001b[0m     \u001b[39mself\u001b[39m\u001b[39m.\u001b[39mconnect(\u001b[39m*\u001b[39m\u001b[39m*\u001b[39mkwargs)\n",
      "File \u001b[1;32mc:\\Users\\hp\\anaconda3\\envs\\data_science\\lib\\site-packages\\mysql\\connector\\abstracts.py:716\u001b[0m, in \u001b[0;36mMySQLConnectionAbstract.connect\u001b[1;34m(self, **kwargs)\u001b[0m\n\u001b[0;32m    713\u001b[0m     \u001b[39mself\u001b[39m\u001b[39m.\u001b[39mconfig(\u001b[39m*\u001b[39m\u001b[39m*\u001b[39mkwargs)\n\u001b[0;32m    715\u001b[0m \u001b[39mself\u001b[39m\u001b[39m.\u001b[39mdisconnect()\n\u001b[1;32m--> 716\u001b[0m \u001b[39mself\u001b[39;49m\u001b[39m.\u001b[39;49m_open_connection()\n\u001b[0;32m    717\u001b[0m \u001b[39mself\u001b[39m\u001b[39m.\u001b[39m_post_connection()\n",
      "File \u001b[1;32mc:\\Users\\hp\\anaconda3\\envs\\data_science\\lib\\site-packages\\mysql\\connector\\connection.py:208\u001b[0m, in \u001b[0;36mMySQLConnection._open_connection\u001b[1;34m(self)\u001b[0m\n\u001b[0;32m    206\u001b[0m \u001b[39mself\u001b[39m\u001b[39m.\u001b[39m_socket\u001b[39m.\u001b[39mopen_connection()\n\u001b[0;32m    207\u001b[0m \u001b[39mself\u001b[39m\u001b[39m.\u001b[39m_do_handshake()\n\u001b[1;32m--> 208\u001b[0m \u001b[39mself\u001b[39;49m\u001b[39m.\u001b[39;49m_do_auth(\u001b[39mself\u001b[39;49m\u001b[39m.\u001b[39;49m_user, \u001b[39mself\u001b[39;49m\u001b[39m.\u001b[39;49m_password,\n\u001b[0;32m    209\u001b[0m               \u001b[39mself\u001b[39;49m\u001b[39m.\u001b[39;49m_database, \u001b[39mself\u001b[39;49m\u001b[39m.\u001b[39;49m_client_flags, \u001b[39mself\u001b[39;49m\u001b[39m.\u001b[39;49m_charset_id,\n\u001b[0;32m    210\u001b[0m               \u001b[39mself\u001b[39;49m\u001b[39m.\u001b[39;49m_ssl)\n\u001b[0;32m    211\u001b[0m \u001b[39mself\u001b[39m\u001b[39m.\u001b[39mset_converter_class(\u001b[39mself\u001b[39m\u001b[39m.\u001b[39m_converter_class)\n\u001b[0;32m    212\u001b[0m \u001b[39mif\u001b[39;00m \u001b[39mself\u001b[39m\u001b[39m.\u001b[39m_client_flags \u001b[39m&\u001b[39m ClientFlag\u001b[39m.\u001b[39mCOMPRESS:\n",
      "File \u001b[1;32mc:\\Users\\hp\\anaconda3\\envs\\data_science\\lib\\site-packages\\mysql\\connector\\connection.py:144\u001b[0m, in \u001b[0;36mMySQLConnection._do_auth\u001b[1;34m(self, username, password, database, client_flags, charset, ssl_options)\u001b[0m\n\u001b[0;32m    137\u001b[0m packet \u001b[39m=\u001b[39m \u001b[39mself\u001b[39m\u001b[39m.\u001b[39m_protocol\u001b[39m.\u001b[39mmake_auth(\n\u001b[0;32m    138\u001b[0m     handshake\u001b[39m=\u001b[39m\u001b[39mself\u001b[39m\u001b[39m.\u001b[39m_handshake,\n\u001b[0;32m    139\u001b[0m     username\u001b[39m=\u001b[39musername, password\u001b[39m=\u001b[39mpassword, database\u001b[39m=\u001b[39mdatabase,\n\u001b[0;32m    140\u001b[0m     charset\u001b[39m=\u001b[39mcharset, client_flags\u001b[39m=\u001b[39mclient_flags,\n\u001b[0;32m    141\u001b[0m     ssl_enabled\u001b[39m=\u001b[39m\u001b[39mself\u001b[39m\u001b[39m.\u001b[39m_ssl_active,\n\u001b[0;32m    142\u001b[0m     auth_plugin\u001b[39m=\u001b[39m\u001b[39mself\u001b[39m\u001b[39m.\u001b[39m_auth_plugin)\n\u001b[0;32m    143\u001b[0m \u001b[39mself\u001b[39m\u001b[39m.\u001b[39m_socket\u001b[39m.\u001b[39msend(packet)\n\u001b[1;32m--> 144\u001b[0m \u001b[39mself\u001b[39;49m\u001b[39m.\u001b[39;49m_auth_switch_request(username, password)\n\u001b[0;32m    146\u001b[0m \u001b[39mif\u001b[39;00m \u001b[39mnot\u001b[39;00m (client_flags \u001b[39m&\u001b[39m ClientFlag\u001b[39m.\u001b[39mCONNECT_WITH_DB) \u001b[39mand\u001b[39;00m database:\n\u001b[0;32m    147\u001b[0m     \u001b[39mself\u001b[39m\u001b[39m.\u001b[39mcmd_init_db(database)\n",
      "File \u001b[1;32mc:\\Users\\hp\\anaconda3\\envs\\data_science\\lib\\site-packages\\mysql\\connector\\connection.py:157\u001b[0m, in \u001b[0;36mMySQLConnection._auth_switch_request\u001b[1;34m(self, username, password)\u001b[0m\n\u001b[0;32m    151\u001b[0m \u001b[39mdef\u001b[39;00m \u001b[39m_auth_switch_request\u001b[39m(\u001b[39mself\u001b[39m, username\u001b[39m=\u001b[39m\u001b[39mNone\u001b[39;00m, password\u001b[39m=\u001b[39m\u001b[39mNone\u001b[39;00m):\n\u001b[0;32m    152\u001b[0m     \u001b[39m\"\"\"Handle second part of authentication\u001b[39;00m\n\u001b[0;32m    153\u001b[0m \n\u001b[0;32m    154\u001b[0m \u001b[39m    Raises NotSupportedError when we get the old, insecure password\u001b[39;00m\n\u001b[0;32m    155\u001b[0m \u001b[39m    reply back. Raises any error coming from MySQL.\u001b[39;00m\n\u001b[0;32m    156\u001b[0m \u001b[39m    \"\"\"\u001b[39;00m\n\u001b[1;32m--> 157\u001b[0m     packet \u001b[39m=\u001b[39m \u001b[39mself\u001b[39;49m\u001b[39m.\u001b[39;49m_socket\u001b[39m.\u001b[39;49mrecv()\n\u001b[0;32m    158\u001b[0m     \u001b[39mif\u001b[39;00m packet[\u001b[39m4\u001b[39m] \u001b[39m==\u001b[39m \u001b[39m254\u001b[39m \u001b[39mand\u001b[39;00m \u001b[39mlen\u001b[39m(packet) \u001b[39m==\u001b[39m \u001b[39m5\u001b[39m:\n\u001b[0;32m    159\u001b[0m         \u001b[39mraise\u001b[39;00m errors\u001b[39m.\u001b[39mNotSupportedError(\n\u001b[0;32m    160\u001b[0m             \u001b[39m\"\u001b[39m\u001b[39mAuthentication with old (insecure) passwords \u001b[39m\u001b[39m\"\u001b[39m\n\u001b[0;32m    161\u001b[0m             \u001b[39m\"\u001b[39m\u001b[39mis not supported. For more information, lookup \u001b[39m\u001b[39m\"\u001b[39m\n\u001b[0;32m    162\u001b[0m             \u001b[39m\"\u001b[39m\u001b[39mPassword Hashing in the latest MySQL manual\u001b[39m\u001b[39m\"\u001b[39m)\n",
      "File \u001b[1;32mc:\\Users\\hp\\anaconda3\\envs\\data_science\\lib\\site-packages\\mysql\\connector\\network.py:241\u001b[0m, in \u001b[0;36mBaseMySQLSocket.recv_plain\u001b[1;34m(self)\u001b[0m\n\u001b[0;32m    239\u001b[0m packet_len \u001b[39m=\u001b[39m \u001b[39m0\u001b[39m\n\u001b[0;32m    240\u001b[0m \u001b[39mwhile\u001b[39;00m packet_len \u001b[39m<\u001b[39m \u001b[39m4\u001b[39m:\n\u001b[1;32m--> 241\u001b[0m     chunk \u001b[39m=\u001b[39m \u001b[39mself\u001b[39;49m\u001b[39m.\u001b[39;49msock\u001b[39m.\u001b[39;49mrecv(\u001b[39m4\u001b[39;49m \u001b[39m-\u001b[39;49m packet_len)\n\u001b[0;32m    242\u001b[0m     \u001b[39mif\u001b[39;00m \u001b[39mnot\u001b[39;00m chunk:\n\u001b[0;32m    243\u001b[0m         \u001b[39mraise\u001b[39;00m errors\u001b[39m.\u001b[39mInterfaceError(errno\u001b[39m=\u001b[39m\u001b[39m2013\u001b[39m)\n",
      "\u001b[1;31mKeyboardInterrupt\u001b[0m: "
     ]
    }
   ],
   "source": [
    "# Get the video file name\n",
    "video_file = \"main_test.mp4\"\n",
    "\n",
    "# Create a VideoCapture object\n",
    "cap = cv2.VideoCapture(video_file)\n",
    "\n",
    "# Get the frame width and height\n",
    "frame_width = int(cap.get(cv2.CAP_PROP_FRAME_WIDTH))\n",
    "frame_height = int(cap.get(cv2.CAP_PROP_FRAME_HEIGHT))\n",
    "\n",
    "# Get the frame rate\n",
    "frame_rate = int(cap.get(cv2.CAP_PROP_FPS))\n",
    "\n",
    "count = 0\n",
    "while True:\n",
    "    # Read the next frame\n",
    "    ret, frame = cap.read()\n",
    "\n",
    "    # If the frame is not read, then the video is over\n",
    "    if not ret:\n",
    "        break\n",
    "\n",
    "    # calling the main function here\n",
    "    if(count == 10):\n",
    "        upload(frame)\n",
    "        count = 0\n",
    "        \n",
    "    \n",
    "\n",
    "    count += 1\n",
    "\n",
    "# Release the VideoCapture object\n",
    "cap.release()\n",
    "\n",
    "# Close all open windows\n",
    "cv2.destroyAllWindows()"
   ]
  },
  {
   "cell_type": "code",
   "execution_count": 4,
   "metadata": {},
   "outputs": [
    {
     "data": {
      "text/plain": [
       "1"
      ]
     },
     "execution_count": 4,
     "metadata": {},
     "output_type": "execute_result"
    }
   ],
   "source": [
    "count = open(\"experiment.txt\",\"w\")\n",
    "count.write(\"1\")\n"
   ]
  },
  {
   "cell_type": "code",
   "execution_count": 5,
   "metadata": {},
   "outputs": [
    {
     "data": {
      "text/plain": [
       "'1'"
      ]
     },
     "execution_count": 5,
     "metadata": {},
     "output_type": "execute_result"
    }
   ],
   "source": [
    "count = open(\"experiment.txt\",\"r\")\n",
    "count.readline()"
   ]
  },
  {
   "cell_type": "code",
   "execution_count": null,
   "metadata": {},
   "outputs": [],
   "source": [
    "# new start\n",
    "import os\n"
   ]
  }
 ],
 "metadata": {
  "kernelspec": {
   "display_name": "data_science",
   "language": "python",
   "name": "python3"
  },
  "language_info": {
   "codemirror_mode": {
    "name": "ipython",
    "version": 3
   },
   "file_extension": ".py",
   "mimetype": "text/x-python",
   "name": "python",
   "nbconvert_exporter": "python",
   "pygments_lexer": "ipython3",
   "version": "3.10.9"
  },
  "orig_nbformat": 4
 },
 "nbformat": 4,
 "nbformat_minor": 2
}
